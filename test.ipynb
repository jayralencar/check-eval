{
 "cells": [
  {
   "cell_type": "code",
   "execution_count": 1,
   "metadata": {},
   "outputs": [
    {
     "data": {
      "text/html": [
       "<div>\n",
       "<style scoped>\n",
       "    .dataframe tbody tr th:only-of-type {\n",
       "        vertical-align: middle;\n",
       "    }\n",
       "\n",
       "    .dataframe tbody tr th {\n",
       "        vertical-align: top;\n",
       "    }\n",
       "\n",
       "    .dataframe thead th {\n",
       "        text-align: right;\n",
       "    }\n",
       "</style>\n",
       "<table border=\"1\" class=\"dataframe\">\n",
       "  <thead>\n",
       "    <tr style=\"text-align: right;\">\n",
       "      <th></th>\n",
       "      <th>sentence_A</th>\n",
       "      <th>sentence_B</th>\n",
       "      <th>score</th>\n",
       "      <th>range</th>\n",
       "      <th>SPLIT</th>\n",
       "    </tr>\n",
       "  </thead>\n",
       "  <tbody>\n",
       "    <tr>\n",
       "      <th>0</th>\n",
       "      <td>ADMINISTRATIVO. RECURSO ORDINÁRIO EM MANDADO D...</td>\n",
       "      <td>ADMINISTRATIVO. RECURSO ORDINÁRIO EM MANDADO D...</td>\n",
       "      <td>4.676405</td>\n",
       "      <td>4</td>\n",
       "      <td>TRAIN</td>\n",
       "    </tr>\n",
       "    <tr>\n",
       "      <th>1</th>\n",
       "      <td>ADMINISTRATIVO. AGRAVO REGIMENTAL. RECURSO ORD...</td>\n",
       "      <td>ADMINISTRATIVO E PROCESSUAL CIVIL. SEGUNDOS EM...</td>\n",
       "      <td>4.540016</td>\n",
       "      <td>4</td>\n",
       "      <td>TEST</td>\n",
       "    </tr>\n",
       "    <tr>\n",
       "      <th>2</th>\n",
       "      <td>ADMINISTRATIVO. RECURSO ORDINÁRIO EM MANDADO D...</td>\n",
       "      <td>ADMINISTRATIVO E PROCESSUAL CIVIL. SEGUNDOS EM...</td>\n",
       "      <td>4.597874</td>\n",
       "      <td>4</td>\n",
       "      <td>TRAIN</td>\n",
       "    </tr>\n",
       "    <tr>\n",
       "      <th>3</th>\n",
       "      <td>ADMINISTRATIVO. AGRAVO REGIMENTAL. RECURSO ORD...</td>\n",
       "      <td>ADMINISTRATIVO. RECURSO ORDINÁRIO EM MANDADO D...</td>\n",
       "      <td>4.724089</td>\n",
       "      <td>4</td>\n",
       "      <td>TEST</td>\n",
       "    </tr>\n",
       "    <tr>\n",
       "      <th>4</th>\n",
       "      <td>ADMINISTRATIVO E PROCESSUAL CIVIL. SEGUNDOS EM...</td>\n",
       "      <td>ADMINISTRATIVO. RECURSO ORDINÁRIO EM MANDADO D...</td>\n",
       "      <td>4.686756</td>\n",
       "      <td>4</td>\n",
       "      <td>TRAIN</td>\n",
       "    </tr>\n",
       "  </tbody>\n",
       "</table>\n",
       "</div>"
      ],
      "text/plain": [
       "                                          sentence_A  \\\n",
       "0  ADMINISTRATIVO. RECURSO ORDINÁRIO EM MANDADO D...   \n",
       "1  ADMINISTRATIVO. AGRAVO REGIMENTAL. RECURSO ORD...   \n",
       "2  ADMINISTRATIVO. RECURSO ORDINÁRIO EM MANDADO D...   \n",
       "3  ADMINISTRATIVO. AGRAVO REGIMENTAL. RECURSO ORD...   \n",
       "4  ADMINISTRATIVO E PROCESSUAL CIVIL. SEGUNDOS EM...   \n",
       "\n",
       "                                          sentence_B     score  range  SPLIT  \n",
       "0  ADMINISTRATIVO. RECURSO ORDINÁRIO EM MANDADO D...  4.676405      4  TRAIN  \n",
       "1  ADMINISTRATIVO E PROCESSUAL CIVIL. SEGUNDOS EM...  4.540016      4   TEST  \n",
       "2  ADMINISTRATIVO E PROCESSUAL CIVIL. SEGUNDOS EM...  4.597874      4  TRAIN  \n",
       "3  ADMINISTRATIVO. RECURSO ORDINÁRIO EM MANDADO D...  4.724089      4   TEST  \n",
       "4  ADMINISTRATIVO. RECURSO ORDINÁRIO EM MANDADO D...  4.686756      4  TRAIN  "
      ]
     },
     "execution_count": 1,
     "metadata": {},
     "output_type": "execute_result"
    }
   ],
   "source": [
    "import pandas as pd\n",
    "\n",
    "df = pd.read_csv(\"./data/stj_sts.csv\")\n",
    "df.head()"
   ]
  },
  {
   "cell_type": "code",
   "execution_count": 2,
   "metadata": {},
   "outputs": [
    {
     "name": "stderr",
     "output_type": "stream",
     "text": [
      "/home/jayr/.local/lib/python3.10/site-packages/tqdm/auto.py:21: TqdmWarning: IProgress not found. Please update jupyter and ipywidgets. See https://ipywidgets.readthedocs.io/en/stable/user_install.html\n",
      "  from .autonotebook import tqdm as notebook_tqdm\n",
      "/usr/lib/python3/dist-packages/scipy/__init__.py:146: UserWarning: A NumPy version >=1.17.3 and <1.25.0 is required for this version of SciPy (detected version 1.26.4\n",
      "  warnings.warn(f\"A NumPy version >={np_minversion} and <{np_maxversion}\"\n"
     ]
    }
   ],
   "source": [
    "from evaluate import load\n",
    "bertscore = load(\"bertscore\")\n"
   ]
  },
  {
   "cell_type": "code",
   "execution_count": 3,
   "metadata": {},
   "outputs": [
    {
     "name": "stdout",
     "output_type": "stream",
     "text": [
      "<class 'pandas.core.frame.DataFrame'>\n",
      "Index: 10814 entries, 1 to 51424\n",
      "Data columns (total 5 columns):\n",
      " #   Column      Non-Null Count  Dtype  \n",
      "---  ------      --------------  -----  \n",
      " 0   sentence_A  10814 non-null  object \n",
      " 1   sentence_B  10814 non-null  object \n",
      " 2   score       10814 non-null  float64\n",
      " 3   range       10814 non-null  int64  \n",
      " 4   SPLIT       10814 non-null  object \n",
      "dtypes: float64(1), int64(1), object(3)\n",
      "memory usage: 506.9+ KB\n"
     ]
    }
   ],
   "source": [
    "test = df[df[\"SPLIT\"] == \"TEST\"]\n",
    "test.info(0)"
   ]
  },
  {
   "cell_type": "code",
   "execution_count": 20,
   "metadata": {},
   "outputs": [
    {
     "data": {
      "text/plain": [
       "array([[<AxesSubplot:title={'center':'score'}>]], dtype=object)"
      ]
     },
     "execution_count": 20,
     "metadata": {},
     "output_type": "execute_result"
    },
    {
     "data": {
      "image/png": "[encoded data removed]",
      "text/plain": [
       "<Figure size 432x288 with 1 Axes>"
      ]
     },
     "metadata": {
      "needs_background": "light"
     },
     "output_type": "display_data"
    }
   ],
   "source": [
    "# histogram for score\n",
    "\n",
    "test.hist(\"score\")"
   ]
  },
  {
   "cell_type": "code",
   "execution_count": 36,
   "metadata": {},
   "outputs": [
    {
     "name": "stderr",
     "output_type": "stream",
     "text": [
      "/tmp/ipykernel_210545/399145726.py:4: SettingWithCopyWarning: \n",
      "A value is trying to be set on a copy of a slice from a DataFrame.\n",
      "Try using .loc[row_indexer,col_indexer] = value instead\n",
      "\n",
      "See the caveats in the documentation: https://pandas.pydata.org/pandas-docs/stable/user_guide/indexing.html#returning-a-view-versus-a-copy\n",
      "  test['bin'] = pd.cut(test['score'], bins=bins)\n",
      "/tmp/ipykernel_210545/399145726.py:14: FutureWarning: The default of observed=False is deprecated and will be changed to True in a future version of pandas. Pass observed=False to retain current behavior or observed=True to adopt the future default and silence this warning.\n",
      "  stratified_sample = test.groupby('bin', group_keys=False).apply(lambda x: x.sample(n=samples_per_bin.loc[x.name]))\n",
      "/tmp/ipykernel_210545/399145726.py:14: DeprecationWarning: DataFrameGroupBy.apply operated on the grouping columns. This behavior is deprecated, and in a future version of pandas the grouping columns will be excluded from the operation. Either pass `include_groups=False` to exclude the groupings or explicitly select the grouping columns after groupby to silence this warning.\n",
      "  stratified_sample = test.groupby('bin', group_keys=False).apply(lambda x: x.sample(n=samples_per_bin.loc[x.name]))\n"
     ]
    }
   ],
   "source": [
    "# make a stratified sample of 50 rows. Uses the score column to stratify. Consider the score is a float\n",
    "\n",
    "bins = [0, 1, 2, 3, 4, 5]\n",
    "test['bin'] = pd.cut(test['score'], bins=bins)\n",
    "\n",
    "total_samples = 50\n",
    "bin_counts = test['bin'].value_counts(normalize=True).sort_index()\n",
    "samples_per_bin = (bin_counts * total_samples).round().astype(int)\n",
    "\n",
    "# Adjust for rounding issues\n",
    "samples_per_bin.iloc[-stratified_sample1] += total_samples - samples_per_bin.sum()\n",
    "\n",
    "# Perform stratified sampling based on the bins\n",
    "stratified_sample = test.groupby('bin', group_keys=False).apply(lambda x: x.sample(n=samples_per_bin.loc[x.name]))\n",
    "\n",
    "# Drop the 'bin' column as it was just for stratification\n",
    "stratified_sample = stratified_sample.drop(columns=['bin'])\n"
   ]
  },
  {
   "cell_type": "code",
   "execution_count": 39,
   "metadata": {},
   "outputs": [
    {
     "data": {
      "text/plain": [
       "array([[<AxesSubplot:title={'center':'score'}>]], dtype=object)"
      ]
     },
     "execution_count": 39,
     "metadata": {},
     "output_type": "execute_result"
    },
    {
     "data": {
      "image/png": "[encoded data removed]",
      "text/plain": [
       "<Figure size 432x288 with 1 Axes>"
      ]
     },
     "metadata": {
      "needs_background": "light"
     },
     "output_type": "display_data"
    }
   ],
   "source": [
    "stratified_sample.hist(\"score\")"
   ]
  },
  {
   "cell_type": "code",
   "execution_count": 40,
   "metadata": {},
   "outputs": [],
   "source": [
    "stratified_sample.to_csv(\"./data/sample.csv\", index=False)"
   ]
  },
  {
   "cell_type": "code",
   "execution_count": 41,
   "metadata": {},
   "outputs": [],
   "source": [
    "references = stratified_sample[\"sentence_A\"].values\n",
    "predictions = stratified_sample[\"sentence_B\"].values"
   ]
  },
  {
   "cell_type": "code",
   "execution_count": 42,
   "metadata": {},
   "outputs": [],
   "source": [
    "results = bertscore.compute(predictions=predictions, references=references, lang=\"en\",show_progress=True)"
   ]
  },
  {
   "cell_type": "code",
   "execution_count": 7,
   "metadata": {},
   "outputs": [
    {
     "data": {
      "text/plain": [
       "{'precision': [0.8207067251205444,\n",
       "  0.885125994682312,\n",
       "  0.8431960344314575,\n",
       "  0.8172149062156677,\n",
       "  0.8463836908340454,\n",
       "  0.8470879197120667,\n",
       "  0.8280817866325378,\n",
       "  0.8383252024650574,\n",
       "  0.8346685171127319,\n",
       "  0.8314874768257141,\n",
       "  0.8486172556877136,\n",
       "  0.8288367390632629,\n",
       "  0.8664535880088806,\n",
       "  0.8372492790222168,\n",
       "  0.8573464751243591,\n",
       "  0.8286499381065369,\n",
       "  0.8373159170150757,\n",
       "  0.8578878045082092,\n",
       "  0.8439999222755432,\n",
       "  0.8378143906593323],\n",
       " 'recall': [0.815623939037323,\n",
       "  0.8924576044082642,\n",
       "  0.7884061336517334,\n",
       "  0.7950211763381958,\n",
       "  0.8360767960548401,\n",
       "  0.8029350638389587,\n",
       "  0.7654871344566345,\n",
       "  0.8260306715965271,\n",
       "  0.8307565450668335,\n",
       "  0.8263407945632935,\n",
       "  0.8367154598236084,\n",
       "  0.8259488344192505,\n",
       "  0.8674034476280212,\n",
       "  0.8325390219688416,\n",
       "  0.8492498397827148,\n",
       "  0.8277750611305237,\n",
       "  0.840265154838562,\n",
       "  0.8407460451126099,\n",
       "  0.8684128522872925,\n",
       "  0.8369005918502808],\n",
       " 'f1': [0.8181574940681458,\n",
       "  0.8887767195701599,\n",
       "  0.8148811459541321,\n",
       "  0.8059653043746948,\n",
       "  0.8411986827850342,\n",
       "  0.8244207501411438,\n",
       "  0.7955551743507385,\n",
       "  0.8321325778961182,\n",
       "  0.832707941532135,\n",
       "  0.8289061188697815,\n",
       "  0.842624306678772,\n",
       "  0.8273902535438538,\n",
       "  0.866928219795227,\n",
       "  0.8348875045776367,\n",
       "  0.8532789349555969,\n",
       "  0.8282122611999512,\n",
       "  0.8387879133224487,\n",
       "  0.8492304086685181,\n",
       "  0.8560323119163513,\n",
       "  0.837357223033905],\n",
       " 'hashcode': 'roberta-large_L17_no-idf_version=0.3.12(hug_trans=4.40.1)'}"
      ]
     },
     "execution_count": 7,
     "metadata": {},
     "output_type": "execute_result"
    }
   ],
   "source": [
    "results"
   ]
  },
  {
   "cell_type": "code",
   "execution_count": 8,
   "metadata": {},
   "outputs": [],
   "source": [
    "from utils import calculate_correlation"
   ]
  },
  {
   "cell_type": "code",
   "execution_count": 47,
   "metadata": {},
   "outputs": [
    {
     "data": {
      "text/plain": [
       "{'pearson': 0.38474227171194963,\n",
       " 'spearman': 0.42770708283313325,\n",
       " 'kendalltau': 0.2963265306122449}"
      ]
     },
     "execution_count": 47,
     "metadata": {},
     "output_type": "execute_result"
    }
   ],
   "source": [
    "human_scores = stratified_sample[\"score\"].values\n",
    "pred_scores = results[\"f1\"]\n",
    "\n",
    "calculate_correlation(human_scores, pred_scores, {})"
   ]
  },
  {
   "cell_type": "code",
   "execution_count": 14,
   "metadata": {},
   "outputs": [
    {
     "data": {
      "text/plain": [
       "{'pearson': 0.5017214430755953,\n",
       " 'spearman': 0.4812030075187969,\n",
       " 'kendalltau': 0.3157894736842105}"
      ]
     },
     "execution_count": 14,
     "metadata": {},
     "output_type": "execute_result"
    }
   ],
   "source": []
  }
 ],
 "metadata": {
  "kernelspec": {
   "display_name": "Python 3",
   "language": "python",
   "name": "python3"
  },
  "language_info": {
   "codemirror_mode": {
    "name": "ipython",
    "version": 3
   },
   "file_extension": ".py",
   "mimetype": "text/x-python",
   "name": "python",
   "nbconvert_exporter": "python",
   "pygments_lexer": "ipython3",
   "version": "3.10.12"
  }
 },
 "nbformat": 4,
 "nbformat_minor": 2
}
